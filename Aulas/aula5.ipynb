{
 "cells": [
  {
   "cell_type": "markdown",
   "id": "eb84a6d5-944d-4c7b-a015-e5a9f01dde2f",
   "metadata": {},
   "source": [
    "# Aula 5 - Revisando o papel da média, mediana, medidas de tendência central, dispersão, desvio padrão, box plot, histograma"
   ]
  },
  {
   "cell_type": "code",
   "execution_count": 1,
   "id": "30a61b95-3064-456a-9975-c0aa7274e96c",
   "metadata": {},
   "outputs": [],
   "source": [
    "import pandas as pd\n",
    "import numpy as np\n",
    "import matplotlib.pyplot as plt\n",
    "import seaborn as sns"
   ]
  },
  {
   "cell_type": "code",
   "execution_count": 2,
   "id": "75b9a1e9-a48b-4959-b042-0b3cea09a5dd",
   "metadata": {},
   "outputs": [],
   "source": [
    "path_ratigns = \"https://raw.githubusercontent.com/rafaelladuarte/film_rating_exploratory_analysis/main/Dados/ratings.csv\""
   ]
  },
  {
   "cell_type": "code",
   "execution_count": 3,
   "id": "95b32528-5133-490b-95f9-be9510a2426a",
   "metadata": {},
   "outputs": [
    {
     "data": {
      "text/html": [
       "<div>\n",
       "<style scoped>\n",
       "    .dataframe tbody tr th:only-of-type {\n",
       "        vertical-align: middle;\n",
       "    }\n",
       "\n",
       "    .dataframe tbody tr th {\n",
       "        vertical-align: top;\n",
       "    }\n",
       "\n",
       "    .dataframe thead th {\n",
       "        text-align: right;\n",
       "    }\n",
       "</style>\n",
       "<table border=\"1\" class=\"dataframe\">\n",
       "  <thead>\n",
       "    <tr style=\"text-align: right;\">\n",
       "      <th></th>\n",
       "      <th>userId</th>\n",
       "      <th>movieId</th>\n",
       "      <th>rating</th>\n",
       "      <th>timestamp</th>\n",
       "    </tr>\n",
       "  </thead>\n",
       "  <tbody>\n",
       "    <tr>\n",
       "      <th>0</th>\n",
       "      <td>1</td>\n",
       "      <td>1</td>\n",
       "      <td>4.0</td>\n",
       "      <td>964982703</td>\n",
       "    </tr>\n",
       "    <tr>\n",
       "      <th>1</th>\n",
       "      <td>1</td>\n",
       "      <td>3</td>\n",
       "      <td>4.0</td>\n",
       "      <td>964981247</td>\n",
       "    </tr>\n",
       "    <tr>\n",
       "      <th>2</th>\n",
       "      <td>1</td>\n",
       "      <td>6</td>\n",
       "      <td>4.0</td>\n",
       "      <td>964982224</td>\n",
       "    </tr>\n",
       "    <tr>\n",
       "      <th>3</th>\n",
       "      <td>1</td>\n",
       "      <td>47</td>\n",
       "      <td>5.0</td>\n",
       "      <td>964983815</td>\n",
       "    </tr>\n",
       "    <tr>\n",
       "      <th>4</th>\n",
       "      <td>1</td>\n",
       "      <td>50</td>\n",
       "      <td>5.0</td>\n",
       "      <td>964982931</td>\n",
       "    </tr>\n",
       "  </tbody>\n",
       "</table>\n",
       "</div>"
      ],
      "text/plain": [
       "   userId  movieId  rating  timestamp\n",
       "0       1        1     4.0  964982703\n",
       "1       1        3     4.0  964981247\n",
       "2       1        6     4.0  964982224\n",
       "3       1       47     5.0  964983815\n",
       "4       1       50     5.0  964982931"
      ]
     },
     "execution_count": 3,
     "metadata": {},
     "output_type": "execute_result"
    }
   ],
   "source": [
    "df_ratings = pd.read_csv(path_ratigns)\n",
    "df_ratings.head()"
   ]
  },
  {
   "cell_type": "code",
   "execution_count": 4,
   "id": "d28f1fa6-e55d-431d-b701-4de817e5f7b0",
   "metadata": {},
   "outputs": [
    {
     "name": "stdout",
     "output_type": "stream",
     "text": [
      "215 110\n"
     ]
    }
   ],
   "source": [
    "notas_do_toy_story = df_ratings.query(\"movieId==1\")\n",
    "notas_do_jumanji = df_ratings.query(\"movieId==2\")\n",
    "print(len(notas_do_toy_story), len(notas_do_jumanji))"
   ]
  },
  {
   "cell_type": "code",
   "execution_count": 5,
   "id": "78adc2c4-8a8f-4893-a9ec-248f4672f0d2",
   "metadata": {},
   "outputs": [
    {
     "name": "stdout",
     "output_type": "stream",
     "text": [
      "Nota média do Toy Story 3.92\n",
      "Nota média do Jumanji 3.43\n"
     ]
    }
   ],
   "source": [
    "print(\"Nota média do Toy Story %.2f\" % notas_do_toy_story.rating.mean())\n",
    "print(\"Nota média do Jumanji %.2f\" % notas_do_jumanji.rating.mean())"
   ]
  },
  {
   "cell_type": "code",
   "execution_count": 6,
   "id": "808a6a16-3607-4759-9bbb-b667a43cfe61",
   "metadata": {},
   "outputs": [
    {
     "name": "stdout",
     "output_type": "stream",
     "text": [
      "0.8348591407114047 0.8817134921476455\n"
     ]
    }
   ],
   "source": [
    "print(notas_do_toy_story.rating.std(), notas_do_jumanji.rating.std())"
   ]
  },
  {
   "cell_type": "code",
   "execution_count": 7,
   "id": "de5392c1-f6fc-4ed8-bb0e-14ba49dd61be",
   "metadata": {},
   "outputs": [
    {
     "name": "stdout",
     "output_type": "stream",
     "text": [
      "Nota mediana do Toy Story 4.00\n",
      "Nota mediana do Jumanji 3.50\n"
     ]
    }
   ],
   "source": [
    "print(\"Nota mediana do Toy Story %.2f\" % notas_do_toy_story.rating.median())\n",
    "print(\"Nota mediana do Jumanji %.2f\" % notas_do_jumanji.rating.median())"
   ]
  },
  {
   "cell_type": "code",
   "execution_count": 8,
   "id": "7eebd584-ae75-4e07-afb8-3b1878d7845c",
   "metadata": {},
   "outputs": [],
   "source": [
    "filme1 = np.append(np.array([2.5] * 10), np.array([3.5] * 10))\n",
    "filme2 = np.append(np.array([5] * 10), np.array([1] * 10))"
   ]
  },
  {
   "cell_type": "code",
   "execution_count": 9,
   "id": "86bc29ff-5aeb-437e-8a87-2ecd3205368a",
   "metadata": {},
   "outputs": [
    {
     "name": "stdout",
     "output_type": "stream",
     "text": [
      "3.0 3.0\n",
      "0.5 2.0\n",
      "3.0 3.0\n"
     ]
    }
   ],
   "source": [
    "print(filme1.mean(), filme2.mean())\n",
    "print(np.std(filme1), np.std(filme2))\n",
    "print(np.median(filme1), np.median(filme2))"
   ]
  },
  {
   "cell_type": "code",
   "execution_count": 10,
   "id": "e8165ce9-0403-467a-b7d2-fec7f7253921",
   "metadata": {},
   "outputs": [
    {
     "data": {
      "text/plain": [
       "(array([10.,  0.,  0.,  0.,  0.,  0.,  0.,  0.,  0., 10.]),\n",
       " array([1. , 1.4, 1.8, 2.2, 2.6, 3. , 3.4, 3.8, 4.2, 4.6, 5. ]),\n",
       " <BarContainer object of 10 artists>)"
      ]
     },
     "execution_count": 10,
     "metadata": {},
     "output_type": "execute_result"
    },
    {
     "data": {
      "image/png": "[encoded data removed]",
      "text/plain": [
       "<Figure size 432x288 with 1 Axes>"
      ]
     },
     "metadata": {
      "needs_background": "light"
     },
     "output_type": "display_data"
    }
   ],
   "source": [
    "plt.hist(filme1)\n",
    "plt.hist(filme2)"
   ]
  },
  {
   "cell_type": "code",
   "execution_count": 11,
   "id": "59d69f9a-63a9-4706-9822-264d0bdf0a6b",
   "metadata": {},
   "outputs": [
    {
     "data": {
      "text/plain": [
       "{'whiskers': [<matplotlib.lines.Line2D at 0x7f92239878b0>,\n",
       "  <matplotlib.lines.Line2D at 0x7f9223987b80>,\n",
       "  <matplotlib.lines.Line2D at 0x7f9223919cd0>,\n",
       "  <matplotlib.lines.Line2D at 0x7f9223919fa0>],\n",
       " 'caps': [<matplotlib.lines.Line2D at 0x7f9223987e50>,\n",
       "  <matplotlib.lines.Line2D at 0x7f9223919160>,\n",
       "  <matplotlib.lines.Line2D at 0x7f92239242b0>,\n",
       "  <matplotlib.lines.Line2D at 0x7f9223924580>],\n",
       " 'boxes': [<matplotlib.lines.Line2D at 0x7f92239875e0>,\n",
       "  <matplotlib.lines.Line2D at 0x7f9223919a00>],\n",
       " 'medians': [<matplotlib.lines.Line2D at 0x7f9223919430>,\n",
       "  <matplotlib.lines.Line2D at 0x7f9223924850>],\n",
       " 'fliers': [<matplotlib.lines.Line2D at 0x7f9223919700>,\n",
       "  <matplotlib.lines.Line2D at 0x7f9223924b20>],\n",
       " 'means': []}"
      ]
     },
     "execution_count": 11,
     "metadata": {},
     "output_type": "execute_result"
    },
    {
     "data": {
      "image/png": "[encoded data removed]",
      "text/plain": [
       "<Figure size 432x288 with 1 Axes>"
      ]
     },
     "metadata": {
      "needs_background": "light"
     },
     "output_type": "display_data"
    }
   ],
   "source": [
    "plt.boxplot([filme1, filme2])"
   ]
  },
  {
   "cell_type": "code",
   "execution_count": 12,
   "id": "a21886ad-1488-41c2-8a50-932f6fe1431a",
   "metadata": {},
   "outputs": [
    {
     "data": {
      "text/plain": [
       "{'whiskers': [<matplotlib.lines.Line2D at 0x7f922388cbe0>,\n",
       "  <matplotlib.lines.Line2D at 0x7f922388ceb0>,\n",
       "  <matplotlib.lines.Line2D at 0x7f922389efd0>,\n",
       "  <matplotlib.lines.Line2D at 0x7f92238aa2e0>],\n",
       " 'caps': [<matplotlib.lines.Line2D at 0x7f922389e1c0>,\n",
       "  <matplotlib.lines.Line2D at 0x7f922389e490>,\n",
       "  <matplotlib.lines.Line2D at 0x7f92238aa5b0>,\n",
       "  <matplotlib.lines.Line2D at 0x7f92238aa880>],\n",
       " 'boxes': [<matplotlib.lines.Line2D at 0x7f922388c910>,\n",
       "  <matplotlib.lines.Line2D at 0x7f922389ed00>],\n",
       " 'medians': [<matplotlib.lines.Line2D at 0x7f922389e760>,\n",
       "  <matplotlib.lines.Line2D at 0x7f92238aab50>],\n",
       " 'fliers': [<matplotlib.lines.Line2D at 0x7f922389ea30>,\n",
       "  <matplotlib.lines.Line2D at 0x7f92238aae20>],\n",
       " 'means': []}"
      ]
     },
     "execution_count": 12,
     "metadata": {},
     "output_type": "execute_result"
    },
    {
     "data": {
      "image/png": "[encoded data removed]",
      "text/plain": [
       "<Figure size 432x288 with 1 Axes>"
      ]
     },
     "metadata": {
      "needs_background": "light"
     },
     "output_type": "display_data"
    }
   ],
   "source": [
    "plt.boxplot([notas_do_toy_story.rating, notas_do_jumanji.rating])"
   ]
  },
  {
   "cell_type": "code",
   "execution_count": 19,
   "id": "290c07bb-e0d5-4a33-8561-2329026899cc",
   "metadata": {},
   "outputs": [
    {
     "data": {
      "text/plain": [
       "<AxesSubplot:xlabel='movieId', ylabel='rating'>"
      ]
     },
     "execution_count": 19,
     "metadata": {},
     "output_type": "execute_result"
    },
    {
     "data": {
      "image/png": "[encoded data removed]",
      "text/plain": [
       "<Figure size 432x288 with 1 Axes>"
      ]
     },
     "metadata": {
      "needs_background": "light"
     },
     "output_type": "display_data"
    }
   ],
   "source": [
    "sns.boxplot(x = \"movieId\", y = \"rating\", data = df_ratings.query(\"movieId in [1,2,3,4,5]\"))"
   ]
  },
  {
   "cell_type": "code",
   "execution_count": null,
   "id": "5dbd44ae-6ad7-4eb6-a466-04d15dece37c",
   "metadata": {},
   "outputs": [],
   "source": []
  }
 ],
 "metadata": {
  "kernelspec": {
   "display_name": "venv",
   "language": "python",
   "name": "venv"
  },
  "language_info": {
   "codemirror_mode": {
    "name": "ipython",
    "version": 3
   },
   "file_extension": ".py",
   "mimetype": "text/x-python",
   "name": "python",
   "nbconvert_exporter": "python",
   "pygments_lexer": "ipython3",
   "version": "3.9.2"
  }
 },
 "nbformat": 4,
 "nbformat_minor": 5
}
